{
 "metadata": {
  "language_info": {
   "codemirror_mode": {
    "name": "ipython",
    "version": 3
   },
   "file_extension": ".py",
   "mimetype": "text/x-python",
   "name": "python",
   "nbconvert_exporter": "python",
   "pygments_lexer": "ipython3",
   "version": "3.8.3-final"
  },
  "orig_nbformat": 2,
  "kernelspec": {
   "name": "python3",
   "display_name": "Python 3",
   "language": "python"
  }
 },
 "nbformat": 4,
 "nbformat_minor": 2,
 "cells": [
  {
   "cell_type": "code",
   "execution_count": 34,
   "metadata": {},
   "outputs": [
    {
     "output_type": "stream",
     "name": "stdout",
     "text": [
      "\n",
      "1. Aptitude \n",
      "2. English \n",
      "3. Maths \n",
      "4. GK \n",
      "5. Exit \n",
      "\n",
      "You have aleready attempted!!! \n"
     ]
    }
   ],
   "source": [
    "a=int(input(\"Enter the number of attemptions: \"))\n",
    "b=0\n",
    "score=0\n",
    "#flags\n",
    "aflag=True\n",
    "eflag=True\n",
    "mflag=True\n",
    "gflag=True\n",
    "if(a>=1 and a<=5):\n",
    "    while(b!=5):\n",
    "        print(\"\\n1. Aptitude \\n2. English \\n3. Maths \\n4. GK \\n5. Exit \\n\")\n",
    "        b=int(input(\"Enter your choice:\"))\n",
    "\n",
    "        if(b>0 and b<6):\n",
    "            if(b==1 and aflag):\n",
    "                b1=int(input(\"How much is 9 cube? \"))\n",
    "                if(b1==729):\n",
    "                    score+=10\n",
    "                aflag=False\n",
    "            elif(b==2 and eflag):\n",
    "                b2=int(input(\"How many vowels are present in English? \"))\n",
    "                if(b2==5):\n",
    "                    score+=10\n",
    "                eflag=False\n",
    "            elif(b==3 and mflag):\n",
    "                b3=int(input(\"what is tan 0? \"))\n",
    "                if(b3==0):\n",
    "                    score+=10\n",
    "                mflag=False\n",
    "            elif(b==4 and gflag):\n",
    "                b4=int(input(\"What is the height of Mount Everest? \"))\n",
    "                if(b4==8849):\n",
    "                    score+=10\n",
    "                gflag=False\n",
    "        else:\n",
    "            print(\"Invalid Input!!!\" )\n",
    "\n",
    "        #checking for how much bonus should be given\n",
    "\n",
    "    if(score==20):\n",
    "        score+=2\n",
    "        print(f\"You have earned a bonus of 2 marks and score is {score} out of 50. \")\n",
    "    elif(score==30):\n",
    "        score+=5\n",
    "        print(f\"You have earned a bonus of 5 marks and score is {score} out of 50. \")\n",
    "    elif(score==40):\n",
    "        score+=10\n",
    "        print(f\"You have earned a bonus of 10 marks and score is {score} out of 50. \")\n",
    "    \n",
    "\n",
    "        #printing result with comment!!!!\n",
    "        if(score>=40):\n",
    "            print(\"You are a Genius. \")\n",
    "        elif(score>=30):\n",
    "            print(\"You are intelligent. \")\n",
    "        elif(score>=20):\n",
    "            print(\"You need to improvement. \")\n",
    "        else:\n",
    "            print(\"You need to re-appear the test. \")\n",
    "\n",
    "            #Preventing multiple attempts\n",
    "    elif(a>1):\n",
    "        print(\"You have aleready attempted!!! \")\n",
    "    else:\n",
    "        print(\"INVALID INPUT!!!! TRY AGAIN!\")\n"
   ]
  }
 ]
}